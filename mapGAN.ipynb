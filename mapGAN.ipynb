{
  "nbformat": 4,
  "nbformat_minor": 0,
  "metadata": {
    "colab": {
      "name": "mapGAN.ipynb",
      "provenance": [],
      "collapsed_sections": [],
      "authorship_tag": "ABX9TyNX62Cqn8CjrnLEGn4V/v30",
      "include_colab_link": true
    },
    "kernelspec": {
      "name": "python3",
      "display_name": "Python 3"
    },
    "accelerator": "GPU"
  },
  "cells": [
    {
      "cell_type": "markdown",
      "metadata": {
        "id": "view-in-github",
        "colab_type": "text"
      },
      "source": [
        "<a href=\"https://colab.research.google.com/github/enesdemirag/mapGAN/blob/master/mapGAN.ipynb\" target=\"_parent\"><img src=\"https://colab.research.google.com/assets/colab-badge.svg\" alt=\"Open In Colab\"/></a>"
      ]
    },
    {
      "cell_type": "markdown",
      "metadata": {
        "id": "SdvI5Gp5f66F",
        "colab_type": "text"
      },
      "source": [
        "**Drive**"
      ]
    },
    {
      "cell_type": "code",
      "metadata": {
        "id": "bL3YsoFFgTuy",
        "colab_type": "code",
        "colab": {}
      },
      "source": [
        "from google.colab import drive\n",
        "drive.mount('/content/drive')"
      ],
      "execution_count": 0,
      "outputs": []
    },
    {
      "cell_type": "markdown",
      "metadata": {
        "id": "cteNdqCHZz33",
        "colab_type": "text"
      },
      "source": [
        "**Dependencies**"
      ]
    },
    {
      "cell_type": "code",
      "metadata": {
        "id": "xFiV-jQZZLph",
        "colab_type": "code",
        "colab": {}
      },
      "source": [
        "import os \n",
        "import time\n",
        "import numpy as np\n",
        "from PIL import Image\n",
        "import tensorflow as tf\n",
        "from termcolor import cprint\n",
        "import matplotlib.pyplot as plt\n",
        "from tensorflow.keras.layers import LeakyReLU\n",
        "from tensorflow.keras.optimizers import Adam\n",
        "from tensorflow.keras.layers import Input, Reshape, Dropout, Dense, Flatten, BatchNormalization, Activation, ZeroPadding2D\n",
        "from tensorflow.keras.models import Sequential, Model, load_model\n",
        "from tensorflow.keras.layers import UpSampling2D, Conv2D\n",
        "\n",
        "%matplotlib inline"
      ],
      "execution_count": 0,
      "outputs": []
    },
    {
      "cell_type": "markdown",
      "metadata": {
        "id": "wlqDK099Zycv",
        "colab_type": "text"
      },
      "source": [
        "**Models**"
      ]
    },
    {
      "cell_type": "code",
      "metadata": {
        "id": "90zZWjlWZ-XK",
        "colab_type": "code",
        "colab": {}
      },
      "source": [
        "class GAN(object):\n",
        "    def __init__(self, resolution=64, channel=3):\n",
        "        self.rows = resolution\n",
        "        self.cols = resolution\n",
        "        self.channel = channel\n",
        "        self.D = None\n",
        "        self.G = None\n",
        "        self.cross_entropy = tf.keras.losses.BinaryCrossentropy(from_logits=True)\n",
        "        self.generator_optimizer = Adam(1.5e-4, 0.5)\n",
        "        self.discriminator_optimizer = Adam(1.5e-4, 0.5)\n",
        "\n",
        "    def discriminator(self, img_shape):\n",
        "        self.D = Sequential()\n",
        "\n",
        "        self.D.add(Conv2D(32, kernel_size=3, strides=2, input_shape=img_shape, padding=\"same\"))\n",
        "        self.D.add(LeakyReLU(alpha=0.2))\n",
        "\n",
        "        self.D.add(Dropout(0.25))\n",
        "        self.D.add(Conv2D(64, kernel_size=3, strides=2, padding=\"same\"))\n",
        "        self.D.add(ZeroPadding2D(padding=((0,1), (0,1))))\n",
        "        self.D.add(BatchNormalization(momentum=0.8))\n",
        "        self.D.add(LeakyReLU(alpha=0.2))\n",
        "\n",
        "        self.D.add(Dropout(0.25))\n",
        "        self.D.add(Conv2D(128, kernel_size=3, strides=2, padding=\"same\"))\n",
        "        self.D.add(BatchNormalization(momentum=0.8))\n",
        "        self.D.add(LeakyReLU(alpha=0.2))\n",
        "\n",
        "        self.D.add(Dropout(0.25))\n",
        "        self.D.add(Conv2D(256, kernel_size=3, strides=1, padding=\"same\"))\n",
        "        self.D.add(BatchNormalization(momentum=0.8))\n",
        "        self.D.add(LeakyReLU(alpha=0.2))\n",
        "\n",
        "        self.D.add(Dropout(0.25))\n",
        "        self.D.add(Conv2D(512, kernel_size=3, strides=1, padding=\"same\"))\n",
        "        self.D.add(BatchNormalization(momentum=0.8))\n",
        "        self.D.add(LeakyReLU(alpha=0.2))\n",
        "\n",
        "        self.D.add(Dropout(0.25))\n",
        "        self.D.add(Flatten())\n",
        "        self.D.add(Dense(1, activation='sigmoid'))\n",
        "\n",
        "        return self.D\n",
        "\n",
        "    def generator(self, seed_size, resolution, channels):\n",
        "        self.G = Sequential()\n",
        "\n",
        "        self.G.add(Dense(4 * 4 * 256, activation=\"relu\", input_dim=seed_size))\n",
        "        self.G.add(Reshape((4, 4, 256)))\n",
        "\n",
        "        self.G.add(UpSampling2D())\n",
        "        self.G.add(Conv2D(256, kernel_size=3, padding=\"same\"))\n",
        "        self.G.add(BatchNormalization(momentum=0.8))\n",
        "        self.G.add(Activation(\"relu\"))\n",
        "\n",
        "        self.G.add(UpSampling2D())\n",
        "        self.G.add(Conv2D(256, kernel_size=3, padding=\"same\"))\n",
        "        self.G.add(BatchNormalization(momentum=0.8))\n",
        "        self.G.add(Activation(\"relu\"))\n",
        "   \n",
        "        self.G.add(UpSampling2D())\n",
        "        self.G.add(Conv2D(128, kernel_size=3, padding=\"same\"))\n",
        "        self.G.add(BatchNormalization(momentum=0.8))\n",
        "        self.G.add(Activation(\"relu\"))\n",
        "\n",
        "        self.G.add(UpSampling2D(size=(int(resolution / 32), int(resolution / 32))))\n",
        "        self.G.add(Conv2D(128, kernel_size=3, padding=\"same\"))\n",
        "        self.G.add(BatchNormalization(momentum=0.8))\n",
        "        self.G.add(Activation(\"relu\"))\n",
        "\n",
        "        self.G.add(Conv2D(channels, kernel_size=3, padding=\"same\"))\n",
        "        self.G.add(Activation(\"tanh\"))\n",
        "\n",
        "        return self.G\n",
        "\n",
        "    def discriminator_loss(self, real_output, fake_output):\n",
        "        real_loss = self.cross_entropy(tf.ones_like(real_output), real_output)\n",
        "        fake_loss = self.cross_entropy(tf.zeros_like(fake_output), fake_output)\n",
        "        total_loss = real_loss + fake_loss\n",
        "        return total_loss\n",
        "\n",
        "    def generator_loss(self, fake_output):\n",
        "        return self.cross_entropy(tf.ones_like(fake_output), fake_output)"
      ],
      "execution_count": 0,
      "outputs": []
    },
    {
      "cell_type": "markdown",
      "metadata": {
        "id": "sLrUVt82biWe",
        "colab_type": "text"
      },
      "source": [
        "**Dataset**"
      ]
    },
    {
      "cell_type": "code",
      "metadata": {
        "id": "eZODHjP9bjrq",
        "colab_type": "code",
        "colab": {}
      },
      "source": [
        "os.chdir(\"/content/drive/My Drive/Colab Notebooks/mapGAN/\")\n",
        "binary = os.path.join(\"dataset.npy\")\n",
        "data = np.load(binary)"
      ],
      "execution_count": 0,
      "outputs": []
    },
    {
      "cell_type": "markdown",
      "metadata": {
        "id": "4DPwHImYa2ln",
        "colab_type": "text"
      },
      "source": [
        "**Configuration**\n"
      ]
    },
    {
      "cell_type": "code",
      "metadata": {
        "id": "XCtdyIfTaVpD",
        "colab_type": "code",
        "colab": {}
      },
      "source": [
        "resolution = 64\n",
        "channels = 3\n",
        "epochs = 50\n",
        "batch_size = 32\n",
        "buffer_size = 3000\n",
        "seed_size = 100\n",
        "image_shape = (resolution, resolution, channels)\n",
        "preview_rows = 3\n",
        "preview_cols = 3\n",
        "preview_margin = 10\n",
        "\n",
        "cprint(\"--- Configurations ---\", \"blue\", attrs=['bold'])\n",
        "cprint(\"Resolution: %8dpx\" %resolution, \"green\")\n",
        "cprint(\"Epochs: %14d\" %epochs, \"green\")\n",
        "cprint(\"Batch Size: %10d\" %batch_size, \"green\")\n",
        "cprint(\"Buffer Size: %9d\" %buffer_size, \"green\")\n",
        "cprint(\"Seed Size: %11d\\n\" %seed_size, \"green\")"
      ],
      "execution_count": 0,
      "outputs": []
    },
    {
      "cell_type": "markdown",
      "metadata": {
        "id": "qd1rd19ed1vL",
        "colab_type": "text"
      },
      "source": [
        "**GAN**"
      ]
    },
    {
      "cell_type": "code",
      "metadata": {
        "id": "CUW1xDxod1dh",
        "colab_type": "code",
        "colab": {}
      },
      "source": [
        "gan = GAN(resolution=resolution, channel=channels)\n",
        "g = gan.generator(seed_size, resolution, channels)\n",
        "d = gan.discriminator(image_shape)\n",
        "dataset = tf.data.Dataset.from_tensor_slices(data).shuffle(buffer_size).batch(batch_size)"
      ],
      "execution_count": 0,
      "outputs": []
    },
    {
      "cell_type": "markdown",
      "metadata": {
        "id": "zE1XTL9TeCFO",
        "colab_type": "text"
      },
      "source": [
        "**Before Training**"
      ]
    },
    {
      "cell_type": "code",
      "metadata": {
        "id": "ds3-fGK0dmeC",
        "colab_type": "code",
        "colab": {}
      },
      "source": [
        "noise = tf.random.normal([1, seed_size])\n",
        "generated_image = g(noise, training=False)\n",
        "prediction = d(generated_image)\n",
        "\n",
        "cprint(\"Generated image is %d%% real.\" %(prediction * 100), \"cyan\")\n",
        "\n",
        "plt.imshow(generated_image[0, :, :, 0])"
      ],
      "execution_count": 0,
      "outputs": []
    },
    {
      "cell_type": "markdown",
      "metadata": {
        "id": "Sw3wwbt3fFOw",
        "colab_type": "text"
      },
      "source": [
        "**Functions**"
      ]
    },
    {
      "cell_type": "code",
      "metadata": {
        "id": "60KBys9lfExM",
        "colab_type": "code",
        "colab": {}
      },
      "source": [
        "def nice_time(sec):\n",
        "    h = int(sec / (60 * 60))\n",
        "    m = int((sec % (60 * 60)) / 60)\n",
        "    s = sec % 60\n",
        "    return \"{}:{:>02}:{:>05.2f}\".format(h, m, s)\n",
        "\n",
        "@tf.function\n",
        "def train_step(images):\n",
        "    seed = tf.random.normal([batch_size, seed_size])\n",
        "\n",
        "    with tf.GradientTape() as gen_tape, tf.GradientTape() as disc_tape:\n",
        "        generated_images = g(seed, training=True)\n",
        "        real_output = d(images, training=True)\n",
        "        fake_output = d(generated_images, training=True)\n",
        "        \n",
        "        gen_loss = gan.generator_loss(fake_output)\n",
        "        disc_loss = gan.discriminator_loss(real_output, fake_output)\n",
        "    \n",
        "        gradients_of_generator = gen_tape.gradient(gen_loss, g.trainable_variables)\n",
        "        gradients_of_discriminator = disc_tape.gradient(disc_loss, d.trainable_variables)\n",
        "\n",
        "        gan.generator_optimizer.apply_gradients(zip(gradients_of_generator, g.trainable_variables))\n",
        "        gan.discriminator_optimizer.apply_gradients(zip(gradients_of_discriminator, d.trainable_variables))\n",
        "    \n",
        "    return gen_loss, disc_loss\n",
        "\n",
        "def train(dataset, epochs):\n",
        "    fixed_seed = np.random.normal(0, 1, (preview_rows * preview_cols, seed_size))\n",
        "    train_start = time.time()\n",
        "\n",
        "    for epoch in range(epochs):\n",
        "        epoch_start = time.time()\n",
        "        gen_loss_list = []\n",
        "        disc_loss_list = []\n",
        "        for image_batch in dataset:\n",
        "            t = train_step(image_batch)\n",
        "            gen_loss_list.append(t[0])\n",
        "            disc_loss_list.append(t[1])\n",
        "\n",
        "        g_loss = sum(gen_loss_list) / len(gen_loss_list)\n",
        "        d_loss = sum(disc_loss_list) / len(disc_loss_list)\n",
        "\n",
        "        epoch_elapsed = time.time() - epoch_start\n",
        "        cprint(\"Epoch: %d/%d, Generator Loss: %f, Discriminator Loss: %f, Elapsed Time: %s\" %((epoch + 1), epochs, g_loss, d_loss, nice_time(epoch_elapsed)), \"blue\", attrs=['bold'])\n",
        "        # save_images(epoch, fixed_seed)\n",
        "\n",
        "    train_elapsed = time.time() - train_start\n",
        "    cprint(\"Training Time: %s\" %nice_time(train_elapsed), \"yellow\", attrs=['bold'])\n",
        "\n",
        "def save_images(index, noise):\n",
        "    image_array = np.full((preview_margin * 2 + (preview_rows * (resolution + preview_margin)), preview_margin * 2 + (preview_cols * (resolution + preview_margin)), 3), 255, dtype=np.uint8)\n",
        "    generated_images = g.predict(noise)\n",
        "    generated_images = 0.5 * generated_images + 0.5\n",
        "\n",
        "    image_count = 0\n",
        "    for row in range(preview_rows):\n",
        "        for col in range(preview_cols):\n",
        "            r = row * (resolution + 16) + preview_margin\n",
        "            c = col * (resolution + 16) + preview_margin\n",
        "            image_array[r:r + resolution, c:c + resolution] = generated_images[image_count] * 255\n",
        "            image_count += 1\n",
        "\n",
        "    im = Image.fromarray(image_array)\n",
        "    im.save(\"map-\" + str(index + 1) + \".png\")"
      ],
      "execution_count": 0,
      "outputs": []
    },
    {
      "cell_type": "markdown",
      "metadata": {
        "id": "E5vtY1PJfe8_",
        "colab_type": "text"
      },
      "source": [
        "**Train**"
      ]
    },
    {
      "cell_type": "code",
      "metadata": {
        "id": "QifGW0Ppfetz",
        "colab_type": "code",
        "colab": {}
      },
      "source": [
        "train(dataset, epochs)"
      ],
      "execution_count": 0,
      "outputs": []
    },
    {
      "cell_type": "markdown",
      "metadata": {
        "id": "B4NaAVAffldq",
        "colab_type": "text"
      },
      "source": [
        "**After Training**"
      ]
    },
    {
      "cell_type": "code",
      "metadata": {
        "id": "2WFjE46XfdPP",
        "colab_type": "code",
        "colab": {}
      },
      "source": [
        "noise = tf.random.normal([1, seed_size])\n",
        "generated_image = g(noise, training=False)\n",
        "prediction = d(generated_image)\n",
        "\n",
        "cprint(\"Generated image is %d%% real.\" %(prediction * 100), \"cyan\")\n",
        "\n",
        "plt.imshow(generated_image[0, :, :, 0])"
      ],
      "execution_count": 0,
      "outputs": []
    },
    {
      "cell_type": "markdown",
      "metadata": {
        "id": "X5NFkB4qfvV9",
        "colab_type": "text"
      },
      "source": [
        "**Save**"
      ]
    },
    {
      "cell_type": "code",
      "metadata": {
        "id": "lgoMj45dfw9D",
        "colab_type": "code",
        "colab": {}
      },
      "source": [
        "g.save(\"mapGAN.h5\")\n",
        "cprint(\"Generator model saved as 'mapGAN.h5'.\", \"blue\", attrs=['bold'])"
      ],
      "execution_count": 0,
      "outputs": []
    },
    {
      "cell_type": "code",
      "metadata": {
        "id": "9fkH6R5OP1cq",
        "colab_type": "code",
        "colab": {
          "base_uri": "https://localhost:8080/",
          "height": 268
        },
        "outputId": "b279ddba-ddf1-44d6-eb88-468f206abbc5"
      },
      "source": [
        "# Example input image from dataset"
      ],
      "execution_count": 33,
      "outputs": [
        {
          "output_type": "display_data",
          "data": {
            "image/png": "[encoded data removed]",
            "text/plain": [
              "<Figure size 432x288 with 1 Axes>"
            ]
          },
          "metadata": {
            "tags": [],
            "needs_background": "light"
          }
        }
      ]
    }
  ]
}